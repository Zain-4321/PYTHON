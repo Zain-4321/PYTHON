{
 "cells": [
  {
   "cell_type": "markdown",
   "metadata": {},
   "source": [
    "## Numpy Array Operations"
   ]
  },
  {
   "cell_type": "code",
   "execution_count": 2,
   "metadata": {},
   "outputs": [],
   "source": [
    "import numpy as np"
   ]
  },
  {
   "cell_type": "code",
   "execution_count": 5,
   "metadata": {},
   "outputs": [
    {
     "name": "stdout",
     "output_type": "stream",
     "text": [
      "Basic Slicing   [ 5  6  7  8  9 10]\n",
      "Basic Slicing wiht Steps   [ 2  4  6  8 10]\n",
      "Basic Slicing with Negative value   7\n"
     ]
    }
   ],
   "source": [
    "arr=np.array([1,2,3,4,5,6,7,8,9,10])\n",
    "print(\"Basic Slicing  \", arr[4:10])\n",
    "print(\"Basic Slicing wiht Steps  \", arr[1:10:2])\n",
    "print(\"Basic Slicing with Negative value  \", arr[-4])"
   ]
  },
  {
   "cell_type": "code",
   "execution_count": null,
   "metadata": {},
   "outputs": [
    {
     "name": "stdout",
     "output_type": "stream",
     "text": [
      "Specific Element  6\n",
      "Entire row  [7 8 9]\n",
      "Only Column Give me [3 6 9]\n",
      "[33 66 99]\n"
     ]
    }
   ],
   "source": [
    "arr_2D=np.array([[1,2,3]\n",
    "                 ,[4,5,6]\n",
    "                 ,[7,8,9]])\n",
    "print(\"Specific Element \", arr_2D[1,2])\n",
    "print(\"Entire row \", arr_2D[2])\n",
    "print(\"Only Column Give me\", arr_2D[:,2])\n",
    "\n",
    "# Extra Questions \n",
    "sampleArray = np.array([[11 ,22, 33], [44, 55, 66], [77, 88, 99]])\n",
    "print(sampleArray[:,2])\n",
    "\n",
    "\n",
    "\n"
   ]
  },
  {
   "cell_type": "code",
   "execution_count": null,
   "metadata": {},
   "outputs": [],
   "source": []
  }
 ],
 "metadata": {
  "kernelspec": {
   "display_name": "Python 3",
   "language": "python",
   "name": "python3"
  },
  "language_info": {
   "codemirror_mode": {
    "name": "ipython",
    "version": 3
   },
   "file_extension": ".py",
   "mimetype": "text/x-python",
   "name": "python",
   "nbconvert_exporter": "python",
   "pygments_lexer": "ipython3",
   "version": "3.13.1"
  }
 },
 "nbformat": 4,
 "nbformat_minor": 2
}
